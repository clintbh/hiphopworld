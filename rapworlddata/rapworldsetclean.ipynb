{
 "cells": [
  {
   "cell_type": "code",
   "execution_count": 18,
   "metadata": {},
   "outputs": [],
   "source": [
    "import pandas as pd\n",
    "import numpy as np"
   ]
  },
  {
   "cell_type": "code",
   "execution_count": 19,
   "metadata": {},
   "outputs": [
    {
     "name": "stdout",
     "output_type": "stream",
     "text": [
      "Index(['name', 'location_city', 'location_neighborhood',\n",
      "       'location_coordinates', 'categories_0', 'bio_summary', 'bio_url',\n",
      "       'bio_birthdate', 'bio_deathdate', 'bio_yearsActiveStart',\n",
      "       'bio_yearsActiveEnd', 'youtube_clipExampleUrl', 'categories_1',\n",
      "       'categories_2'],\n",
      "      dtype='object')\n"
     ]
    }
   ],
   "source": [
    "rapdf = pd.read_csv('rapmapcsv.csv')\n",
    "print(rapdf.columns)"
   ]
  },
  {
   "cell_type": "code",
   "execution_count": 30,
   "metadata": {},
   "outputs": [
    {
     "name": "stdout",
     "output_type": "stream",
     "text": [
      "           name     location_city location_neighborhood  \\\n",
      "0     Luh tyler       Tallahassee                   NaN   \n",
      "1  Aya Nakamura  Aulnay-sous-Bois                   NaN   \n",
      "2        Roedel           Antwerp                   NaN   \n",
      "3    Luie Louis           Antwerp                   NaN   \n",
      "4       Kerchak      Bois Colombe                   NaN   \n",
      "\n",
      "                      location_coordinates   categories_0  \\\n",
      "0   -84.29687037777308, 30.442660146160325         rapper   \n",
      "1    2.490266442733566, 48.941836029572535         singer   \n",
      "2    4.414546381353945, 51.212458165765334          group   \n",
      "3     4.419766073018593, 51.19776259437585  producer / dj   \n",
      "4    2.2751423101474217, 48.90991788079845         rapper   \n",
      "\n",
      "              bio_birthdate bio_deathdate  bio_yearsActiveStart  \\\n",
      "0  2006-02-20T00:00:00.000Z           NaN                  2022   \n",
      "1  1995-05-10T00:00:00.000Z           NaN                  2015   \n",
      "2                       NaN           NaN                  2017   \n",
      "3                       NaN           NaN                  2017   \n",
      "4  2004-02-19T00:00:00.000Z           NaN                  2019   \n",
      "\n",
      "   bio_yearsActiveEnd  \n",
      "0                 NaN  \n",
      "1                 NaN  \n",
      "2                 NaN  \n",
      "3                 NaN  \n",
      "4                 NaN  \n"
     ]
    }
   ],
   "source": [
    "rapdf_clean = rapdf.drop(['bio_summary','bio_url','youtube_clipExampleUrl','categories_1','categories_2'],axis=1)\n",
    "print(rapdf_clean.head(5))"
   ]
  },
  {
   "cell_type": "code",
   "execution_count": 31,
   "metadata": {},
   "outputs": [
    {
     "name": "stdout",
     "output_type": "stream",
     "text": [
      "           name     location_city location_neighborhood categories_0  \\\n",
      "0     Luh tyler       Tallahassee                   NaN       rapper   \n",
      "1  Aya Nakamura  Aulnay-sous-Bois                   NaN       singer   \n",
      "\n",
      "              bio_birthdate bio_deathdate  bio_yearsActiveStart  \\\n",
      "0  2006-02-20T00:00:00.000Z           NaN                  2022   \n",
      "1  1995-05-10T00:00:00.000Z           NaN                  2015   \n",
      "\n",
      "   bio_yearsActiveEnd            longitude             latitude  \n",
      "0                 NaN   -84.29687037777308   30.442660146160325  \n",
      "1                 NaN    2.490266442733566   48.941836029572535  \n"
     ]
    }
   ],
   "source": [
    "rapdf_clean[['longitude', 'latitude']] = rapdf_clean['location_coordinates'].str.split(',', expand=True)\n",
    "rapdf_clean = rapdf_clean.drop(['location_coordinates'], axis=1)\n",
    "print(rapdf_clean.head(2))"
   ]
  },
  {
   "cell_type": "code",
   "execution_count": 33,
   "metadata": {},
   "outputs": [],
   "source": [
    "rapdf_clean.to_csv('rap_clean2.csv')"
   ]
  }
 ],
 "metadata": {
  "kernelspec": {
   "display_name": "portfolio",
   "language": "python",
   "name": "python3"
  },
  "language_info": {
   "codemirror_mode": {
    "name": "ipython",
    "version": 3
   },
   "file_extension": ".py",
   "mimetype": "text/x-python",
   "name": "python",
   "nbconvert_exporter": "python",
   "pygments_lexer": "ipython3",
   "version": "3.10.9"
  },
  "orig_nbformat": 4
 },
 "nbformat": 4,
 "nbformat_minor": 2
}
